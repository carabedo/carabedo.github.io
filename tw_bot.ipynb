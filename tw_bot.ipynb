{
 "cells": [
  {
   "cell_type": "code",
   "execution_count": 3,
   "metadata": {},
   "outputs": [],
   "source": [
    "import tweepy\n",
    "import logging\n",
    "import time\n",
    "from nscrapy.nscrap import clarin\n",
    "\n",
    "logging.basicConfig(level=logging.INFO)\n",
    "logger = logging.getLogger()\n",
    "logger = logging.getLogger()\n",
    "\n",
    "\n",
    "consumer_key = \"EtKmd1NbqzXAZAIdWpb7xbRKg\"\n",
    "consumer_secret = \"R9tSQTZOv9wuDqis8UIhmLJ2jFUtATDYrTtUlTsb9UdGQk7GuJ\"\n",
    "access_token =\"1323692400158625792-Ve3TDs7u9kIoBiBYwLzE7oU7hjVDXj\"\n",
    "access_token_secret =\"kPe9lFls2BDokKMAGh2NdNGssXYWinN9iUlxVwQDN5iVC\"\n",
    "\n",
    "def tw_api():\n",
    "\n",
    "    auth = tweepy.OAuthHandler(consumer_key, consumer_secret)\n",
    "    auth.set_access_token(access_token, access_token_secret)\n",
    "    api = tweepy.API(auth, wait_on_rate_limit=True, wait_on_rate_limit_notify=True)\n",
    "    \n",
    "    try:\n",
    "        api.verify_credentials()\n",
    "    except Exception as e:\n",
    "        logger.error(\"Error creating API\", exc_info=True)\n",
    "        raise e\n",
    "    \n",
    "    logger.info(\"API created\")\n",
    "    return api\n",
    "\n",
    "\n",
    "def check_mentions(api, keywords, since_id):\n",
    "    logger.info(\"Retrieving mentions\")\n",
    "    new_since_id = since_id\n",
    "    tuits=tweepy.Cursor(api.mentions_timeline,since_id=since_id,tweet_mode=\"extended\").items()\n",
    "    for tweet in tuits:\n",
    "        new_since_id = max(tweet.id, new_since_id)     \n",
    "        \n",
    "        if tweet.in_reply_to_status_id is not None:\n",
    "            \n",
    "            if any(keyword in tweet.full_text.lower() for keyword in keywords):\n",
    "                logger.info(f\"Mention in {'https://twitter.com/twitter/statuses/'+tweet.id_str}\")\n",
    "                tuit0=api.get_status(tweet.in_reply_to_status_id,tweet_mode=\"extended\")\n",
    "                logger.info(f\"a reply to {'https://twitter.com/twitter/statuses/'+tuit0.id_str}\")\n",
    "                #api.update_status(status=\"Please reach us via DM\",in_reply_to_status_id=tweet.id)\n",
    "                url=tuit0.entities['urls'][0]['url']\n",
    "                logger.info(f\"found url: {url}\")\n",
    "                nota=clarin()\n",
    "                try:\n",
    "                    nota.get(url)\n",
    "                    resu=nota.bold[-240:] \n",
    "                    try:\n",
    "                        api.update_status(status=\"@\"+tweet.author.screen_name+' '+resu ,in_reply_to_status_id=tweet.id)\n",
    "                        logger.info(f\"summarized\")\n",
    "\n",
    "                    except:\n",
    "                        logger.info(f\"already summarized\")\n",
    "                except:\n",
    "                    logger.info(f\"cant scrap\")\n",
    "\n",
    "def main():\n",
    "    api = create_api()\n",
    "    since_id = 1\n",
    "    since_id = check_mentions(api, [\" \"], since_id)\n",
    "\n",
    "\n",
    "\n"
   ]
  },
  {
   "cell_type": "code",
   "execution_count": 4,
   "metadata": {
    "scrolled": true
   },
   "outputs": [
    {
     "name": "stderr",
     "output_type": "stream",
     "text": [
      "INFO:root:API created\n",
      "INFO:root:Retrieving mentions\n",
      "INFO:root:Mention in https://twitter.com/twitter/statuses/1328845486518906882\n",
      "INFO:root:a reply to https://twitter.com/twitter/statuses/1328835480985677825\n",
      "INFO:root:found url: https://t.co/w8du5SumeG\n",
      "INFO:root:cant scrap\n",
      "INFO:root:Mention in https://twitter.com/twitter/statuses/1324516136638156809\n",
      "INFO:root:a reply to https://twitter.com/twitter/statuses/1324513373082525697\n",
      "INFO:root:found url: https://t.co/uQj8iYMDON\n",
      "INFO:root:summarized\n",
      "INFO:root:Mention in https://twitter.com/twitter/statuses/1324514085560553472\n",
      "INFO:root:a reply to https://twitter.com/twitter/statuses/1324513374873542657\n",
      "INFO:root:found url: https://t.co/WIQJjEAfJX\n",
      "INFO:root:cant scrap\n",
      "INFO:root:Mention in https://twitter.com/twitter/statuses/1323799200816107521\n",
      "INFO:root:a reply to https://twitter.com/twitter/statuses/1323759163164512257\n",
      "INFO:root:found url: https://t.co/8KTlJrkcWm\n",
      "INFO:root:summarized\n",
      "INFO:root:Mention in https://twitter.com/twitter/statuses/1323794296315781120\n",
      "INFO:root:a reply to https://twitter.com/twitter/statuses/1323764276725731331\n",
      "INFO:root:found url: https://t.co/TpiFqlgzUk\n",
      "INFO:root:summarized\n",
      "INFO:root:Mention in https://twitter.com/twitter/statuses/1323794121614643202\n",
      "INFO:root:a reply to https://twitter.com/twitter/statuses/1323775142602903558\n",
      "INFO:root:found url: https://t.co/ICkq9h5JSQ\n",
      "INFO:root:summarized\n",
      "INFO:root:Mention in https://twitter.com/twitter/statuses/1323794013049233408\n",
      "INFO:root:a reply to https://twitter.com/twitter/statuses/1323781743812501504\n",
      "INFO:root:found url: https://t.co/e9weCqhYa0\n",
      "INFO:root:summarized\n"
     ]
    }
   ],
   "source": [
    "api=tw_api()\n",
    "check_mentions(api, [\" \"], 1)"
   ]
  },
  {
   "cell_type": "code",
   "execution_count": 5,
   "metadata": {},
   "outputs": [],
   "source": [
    "def mentions(api, keywords, since_id):\n",
    "    logger.info(\"Retrieving mentions\")\n",
    "    new_since_id = since_id\n",
    "    tuits=tweepy.Cursor(api.mentions_timeline,since_id=since_id,tweet_mode=\"extended\").items()\n",
    "    return(tuits)"
   ]
  },
  {
   "cell_type": "code",
   "execution_count": 42,
   "metadata": {},
   "outputs": [
    {
     "name": "stderr",
     "output_type": "stream",
     "text": [
      "INFO:root:Retrieving mentions\n"
     ]
    }
   ],
   "source": [
    "items=mentions(api, [\" \"], 3)"
   ]
  },
  {
   "cell_type": "code",
   "execution_count": 35,
   "metadata": {},
   "outputs": [
    {
     "data": {
      "text/plain": [
       "['author',\n",
       " 'contributors',\n",
       " 'coordinates',\n",
       " 'created_at',\n",
       " 'destroy',\n",
       " 'display_text_range',\n",
       " 'entities',\n",
       " 'favorite',\n",
       " 'favorite_count',\n",
       " 'favorited',\n",
       " 'full_text',\n",
       " 'geo',\n",
       " 'id',\n",
       " 'id_str',\n",
       " 'in_reply_to_screen_name',\n",
       " 'in_reply_to_status_id',\n",
       " 'in_reply_to_status_id_str',\n",
       " 'in_reply_to_user_id',\n",
       " 'in_reply_to_user_id_str',\n",
       " 'is_quote_status',\n",
       " 'lang',\n",
       " 'parse',\n",
       " 'parse_list',\n",
       " 'place',\n",
       " 'retweet',\n",
       " 'retweet_count',\n",
       " 'retweeted',\n",
       " 'retweets',\n",
       " 'source',\n",
       " 'source_url',\n",
       " 'truncated',\n",
       " 'user']"
      ]
     },
     "execution_count": 35,
     "metadata": {},
     "output_type": "execute_result"
    }
   ],
   "source": [
    "[ x for x in dir(tuis[0]) if x[0] != '_' ]"
   ]
  },
  {
   "cell_type": "code",
   "execution_count": 43,
   "metadata": {},
   "outputs": [
    {
     "name": "stdout",
     "output_type": "stream",
     "text": [
      "<class 'tweepy.models.Status'>\n",
      "<class 'tweepy.models.Status'>\n",
      "<class 'tweepy.models.Status'>\n",
      "<class 'tweepy.models.Status'>\n",
      "<class 'tweepy.models.Status'>\n",
      "<class 'tweepy.models.Status'>\n",
      "<class 'tweepy.models.Status'>\n"
     ]
    }
   ],
   "source": [
    "tuis=[]\n",
    "for x in items:\n",
    "    print(type(x))\n",
    "    tuis.append(x)"
   ]
  },
  {
   "cell_type": "code",
   "execution_count": 44,
   "metadata": {},
   "outputs": [
    {
     "name": "stdout",
     "output_type": "stream",
     "text": [
      "@cronica @dr_toolong\n",
      "\n",
      "@clarincom @dr_toolong\n",
      "\n",
      "@clarincom @dr_toolong\n",
      "\n",
      "@clarincom @dr_toolong\n",
      "\n",
      "@clarincom @baitbot2\n",
      "\n",
      "@clarincom @baitbot2\n",
      "\n",
      "@clarincom @baitbot2\n",
      "\n"
     ]
    }
   ],
   "source": [
    "for x in tuis:\n",
    "    print(x.full_text)\n",
    "    print()"
   ]
  },
  {
   "cell_type": "code",
   "execution_count": null,
   "metadata": {},
   "outputs": [],
   "source": []
  },
  {
   "cell_type": "code",
   "execution_count": null,
   "metadata": {},
   "outputs": [],
   "source": []
  },
  {
   "cell_type": "code",
   "execution_count": null,
   "metadata": {},
   "outputs": [],
   "source": []
  },
  {
   "cell_type": "code",
   "execution_count": null,
   "metadata": {},
   "outputs": [],
   "source": []
  },
  {
   "cell_type": "code",
   "execution_count": null,
   "metadata": {},
   "outputs": [],
   "source": []
  },
  {
   "cell_type": "code",
   "execution_count": null,
   "metadata": {},
   "outputs": [],
   "source": []
  },
  {
   "cell_type": "code",
   "execution_count": null,
   "metadata": {},
   "outputs": [],
   "source": []
  },
  {
   "cell_type": "code",
   "execution_count": null,
   "metadata": {},
   "outputs": [],
   "source": []
  },
  {
   "cell_type": "code",
   "execution_count": null,
   "metadata": {},
   "outputs": [],
   "source": []
  },
  {
   "cell_type": "code",
   "execution_count": null,
   "metadata": {},
   "outputs": [],
   "source": []
  },
  {
   "cell_type": "code",
   "execution_count": null,
   "metadata": {},
   "outputs": [],
   "source": []
  },
  {
   "cell_type": "code",
   "execution_count": null,
   "metadata": {},
   "outputs": [],
   "source": []
  },
  {
   "cell_type": "code",
   "execution_count": 56,
   "metadata": {},
   "outputs": [
    {
     "data": {
      "text/plain": [
       "'3.9.0'"
      ]
     },
     "execution_count": 56,
     "metadata": {},
     "output_type": "execute_result"
    }
   ],
   "source": [
    "tweepy.__version__"
   ]
  },
  {
   "cell_type": "code",
   "execution_count": 5,
   "metadata": {},
   "outputs": [
    {
     "name": "stderr",
     "output_type": "stream",
     "text": [
      "INFO:root:API created\n"
     ]
    }
   ],
   "source": [
    "api=create_api()"
   ]
  },
  {
   "cell_type": "code",
   "execution_count": 45,
   "metadata": {},
   "outputs": [],
   "source": [
    "tuis=api.get_status(1323715036708278275)"
   ]
  },
  {
   "cell_type": "code",
   "execution_count": 40,
   "metadata": {},
   "outputs": [
    {
     "data": {
      "text/plain": [
       "'https://mobile.twitter.com'"
      ]
     },
     "execution_count": 40,
     "metadata": {},
     "output_type": "execute_result"
    }
   ],
   "source": [
    "tuis."
   ]
  },
  {
   "cell_type": "code",
   "execution_count": 36,
   "metadata": {},
   "outputs": [
    {
     "data": {
      "text/plain": [
       "1323715036708278275"
      ]
     },
     "execution_count": 36,
     "metadata": {},
     "output_type": "execute_result"
    }
   ],
   "source": [
    "tuis.id"
   ]
  },
  {
   "cell_type": "code",
   "execution_count": 37,
   "metadata": {},
   "outputs": [
    {
     "data": {
      "text/plain": [
       "'@cronica @baitbot2'"
      ]
     },
     "execution_count": 37,
     "metadata": {},
     "output_type": "execute_result"
    }
   ],
   "source": [
    "tuis.text"
   ]
  },
  {
   "cell_type": "code",
   "execution_count": 9,
   "metadata": {},
   "outputs": [
    {
     "data": {
      "text/plain": [
       "1323696201347289093"
      ]
     },
     "execution_count": 9,
     "metadata": {},
     "output_type": "execute_result"
    }
   ],
   "source": [
    "tuis.in_reply_to_status_id"
   ]
  },
  {
   "cell_type": "code",
   "execution_count": 24,
   "metadata": {},
   "outputs": [],
   "source": [
    "tuis0=api.get_status(1323696201347289093,tweet_mode=\"extended\")"
   ]
  },
  {
   "cell_type": "code",
   "execution_count": 59,
   "metadata": {},
   "outputs": [
    {
     "data": {
      "text/plain": [
       "'✊[UNIDAS]✊ Rocío Oliva contó la charla que tuvo con Claudia Villafañe por la salud de Diego Maradona &gt;&gt;&gt;  La ex novia del \"Diez\" reveló la honesta conversación que mantuvo con la mamá de Dalma y Gianinna y disparó contra Verónica Ojeda. ¡Mirá! https://t.co/kLEWVEEwiK'"
      ]
     },
     "execution_count": 59,
     "metadata": {},
     "output_type": "execute_result"
    }
   ],
   "source": [
    "tuis0.full_text"
   ]
  },
  {
   "cell_type": "code",
   "execution_count": 65,
   "metadata": {},
   "outputs": [
    {
     "data": {
      "text/plain": [
       "'cronica'"
      ]
     },
     "execution_count": 65,
     "metadata": {},
     "output_type": "execute_result"
    }
   ],
   "source": [
    "tuis0.author.screen_name"
   ]
  },
  {
   "cell_type": "code",
   "execution_count": 29,
   "metadata": {},
   "outputs": [
    {
     "data": {
      "text/plain": [
       "[{'url': 'https://t.co/kLEWVEEwiK',\n",
       "  'expanded_url': 'https://www.diarioshow.com/farandula/Rocio-Oliva-conto-la-charla-que-tuvo-con-Claudia-Villafane-por-la-salud-de-Diego-Maradona-20201103-0008.html',\n",
       "  'display_url': 'diarioshow.com/farandula/Roci…',\n",
       "  'indices': [253, 276]}]"
      ]
     },
     "execution_count": 29,
     "metadata": {},
     "output_type": "execute_result"
    }
   ],
   "source": [
    "tuis0.entities['urls']"
   ]
  },
  {
   "cell_type": "code",
   "execution_count": 30,
   "metadata": {},
   "outputs": [
    {
     "data": {
      "text/plain": [
       "'https://t.co/kLEWVEEwiK'"
      ]
     },
     "execution_count": 30,
     "metadata": {},
     "output_type": "execute_result"
    }
   ],
   "source": [
    "tuis0.entities['urls'][0]['url']"
   ]
  },
  {
   "cell_type": "code",
   "execution_count": 77,
   "metadata": {},
   "outputs": [],
   "source": [
    "import requests as rq"
   ]
  },
  {
   "cell_type": "code",
   "execution_count": 79,
   "metadata": {},
   "outputs": [],
   "source": [
    "r=rq.get(tuis0.entities['urls'][0]['url'])"
   ]
  },
  {
   "cell_type": "code",
   "execution_count": 84,
   "metadata": {},
   "outputs": [],
   "source": [
    "from nscrapy.nscrap import clarin"
   ]
  },
  {
   "cell_type": "code",
   "execution_count": 85,
   "metadata": {},
   "outputs": [],
   "source": []
  },
  {
   "cell_type": "code",
   "execution_count": 14,
   "metadata": {},
   "outputs": [],
   "source": [
    "nota=clarin()\n",
    "nota.get('https://www.clarin.com/sociedad/universidad-privada-mendoza-primera-volver-clases-presenciales_0_oPJGL3Lts.html')"
   ]
  },
  {
   "cell_type": "code",
   "execution_count": 16,
   "metadata": {},
   "outputs": [
    {
     "data": {
      "text/plain": [
       "['Clarín']"
      ]
     },
     "execution_count": 16,
     "metadata": {},
     "output_type": "execute_result"
    }
   ],
   "source": [
    "nota.bolds"
   ]
  },
  {
   "cell_type": "code",
   "execution_count": 16,
   "metadata": {},
   "outputs": [
    {
     "data": {
      "text/plain": [
       "1323696201347289093"
      ]
     },
     "execution_count": 16,
     "metadata": {},
     "output_type": "execute_result"
    }
   ],
   "source": [
    "tuis0.id"
   ]
  },
  {
   "cell_type": "code",
   "execution_count": null,
   "metadata": {},
   "outputs": [],
   "source": []
  },
  {
   "cell_type": "code",
   "execution_count": null,
   "metadata": {},
   "outputs": [],
   "source": []
  },
  {
   "cell_type": "code",
   "execution_count": null,
   "metadata": {},
   "outputs": [],
   "source": []
  },
  {
   "cell_type": "code",
   "execution_count": null,
   "metadata": {},
   "outputs": [],
   "source": [
    "fd"
   ]
  },
  {
   "cell_type": "code",
   "execution_count": 60,
   "metadata": {},
   "outputs": [],
   "source": [
    "ls=tweepy.Cursor(api.mentions_timeline,since_id=1).items()"
   ]
  },
  {
   "cell_type": "code",
   "execution_count": 61,
   "metadata": {},
   "outputs": [
    {
     "name": "stdout",
     "output_type": "stream",
     "text": [
      "@cronica @baitbot2\n"
     ]
    }
   ],
   "source": [
    "for x in ls:\n",
    "    print(x.text)"
   ]
  },
  {
   "cell_type": "code",
   "execution_count": 70,
   "metadata": {},
   "outputs": [
    {
     "data": {
      "text/plain": [
       "True"
      ]
     },
     "execution_count": 70,
     "metadata": {},
     "output_type": "execute_result"
    }
   ],
   "source": [
    "x.in_reply_to_status_id is not None"
   ]
  },
  {
   "cell_type": "code",
   "execution_count": 65,
   "metadata": {},
   "outputs": [
    {
     "data": {
      "text/plain": [
       "'✊[UNIDAS]✊ Rocío Oliva contó la charla que tuvo con Claudia Villafañe por la salud de Diego Maradona &gt;&gt;&gt;  La ex nov… https://t.co/hL9s1D4oJ7'"
      ]
     },
     "execution_count": 65,
     "metadata": {},
     "output_type": "execute_result"
    }
   ],
   "source": [
    "api.get_status(1323696201347289093).text"
   ]
  },
  {
   "cell_type": "code",
   "execution_count": 5,
   "metadata": {},
   "outputs": [],
   "source": [
    "logging.basicConfig(level=logging.INFO)\n",
    "logger = logging.getLogger()\n",
    "\n",
    "def check_mentions(api, keywords, since_id):\n",
    "    logger.info(\"Retrieving mentions\")\n",
    "    new_since_id = since_id\n",
    "    for tweet in tweepy.Cursor(api.mentions_timeline,\n",
    "        since_id=since_id).items():\n",
    "        new_since_id = max(tweet.id, new_since_id)\n",
    "        if tweet.in_reply_to_status_id is not None:\n",
    "            continue\n",
    "        if any(keyword in tweet.text.lower() for keyword in keywords):\n",
    "            logger.info(f\"Answering to {tweet.user.name}\")\n",
    "\n",
    "            if not tweet.user.following:\n",
    "                tweet.user.follow()\n",
    "\n",
    "            api.update_status(\n",
    "                status=\"Please reach us via DM\",\n",
    "                in_reply_to_status_id=tweet.id,\n",
    "            )\n",
    "    return new_since_id\n",
    "\n",
    "\n",
    "    \n",
    "    since_id = 1\n",
    "    while True:\n",
    "        since_id = check_mentions(api, [\"help\", \"support\"], since_id)\n",
    "        logger.info(\"Waiting...\")\n",
    "        time.sleep(60)\n",
    "\n"
   ]
  },
  {
   "cell_type": "code",
   "execution_count": 38,
   "metadata": {},
   "outputs": [],
   "source": [
    "consumer_key = \"EtKmd1NbqzXAZAIdWpb7xbRKg\"\n",
    "consumer_secret = \"R9tSQTZOv9wuDqis8UIhmLJ2jFUtATDYrTtUlTsb9UdGQk7GuJ\"\n",
    "access_token =\"1323692400158625792-Ve3TDs7u9kIoBiBYwLzE7oU7hjVDXj\"\n",
    "access_token_secret =\"kPe9lFls2BDokKMAGh2NdNGssXYWinN9iUlxVwQDN5iVC\""
   ]
  },
  {
   "cell_type": "code",
   "execution_count": 39,
   "metadata": {},
   "outputs": [],
   "source": [
    "import datetime \n",
    "\n",
    "auth = tweepy.OAuthHandler(consumer_key, consumer_secret) \n",
    "auth.set_access_token(access_token, access_token_secret)\n",
    "api = tweepy.API(auth)"
   ]
  },
  {
   "cell_type": "code",
   "execution_count": 40,
   "metadata": {},
   "outputs": [],
   "source": [
    "tuit=publictweet()\n"
   ]
  },
  {
   "cell_type": "code",
   "execution_count": 41,
   "metadata": {},
   "outputs": [],
   "source": [
    "import datetime\n",
    "def publictweet():\n",
    "    if datetime.date.today().weekday() == 0:\n",
    "        tweettopublish = 'Hi everyone, today is Monday.   #Monday '\n",
    "    if datetime.date.today().weekday() == 1:\n",
    "        tweettopublish = 'Enjoy your Tuesday.  #Tuesday'\n",
    "    if datetime.date.today().weekday() == 2:\n",
    "        tweettopublish = 'Third week of the Week. #Wednesday'\n",
    "    if datetime.date.today().weekday() == 3:\n",
    "        tweettopublish = 'Thursday. I cannot wait for the Weekend'\n",
    "    if datetime.date.today().weekday() == 4:\n",
    "        tweettopublish = 'Friday...Finally'\n",
    "    if datetime.date.today().weekday() == 5:\n",
    "        tweettopublish = 'Great it is Saturday #weekend #Saturday'\n",
    "    if datetime.date.today().weekday() == 6:\n",
    "        tweettopublish = 'Sunday morning...#Weekend #enjoy '\n",
    "    return(tweettopublish)    "
   ]
  },
  {
   "cell_type": "code",
   "execution_count": 42,
   "metadata": {},
   "outputs": [
    {
     "name": "stdout",
     "output_type": "stream",
     "text": [
      "Enjoy your Tuesday.  #Tuesday\n"
     ]
    }
   ],
   "source": [
    "api.update_status(tuit)\n",
    "print(tuit)"
   ]
  },
  {
   "cell_type": "code",
   "execution_count": 33,
   "metadata": {},
   "outputs": [
    {
     "name": "stdout",
     "output_type": "stream",
     "text": [
      "@Ross91519618 @DropTheTacoA20 I was taking a shit\n"
     ]
    }
   ],
   "source": [
    "\n",
    "auth = tweepy.OAuthHandler(consumer_key, consumer_secret) \n",
    "auth.set_access_token(access_token, access_token_secret)\n",
    "\n",
    "api = tweepy.API(auth)\n",
    "\n",
    "results = api.search(q='cheese', count=100)\n",
    "\n",
    "print(results[1].text)"
   ]
  }
 ],
 "metadata": {
  "kernelspec": {
   "display_name": "Python 3",
   "language": "python",
   "name": "python3"
  },
  "language_info": {
   "codemirror_mode": {
    "name": "ipython",
    "version": 3
   },
   "file_extension": ".py",
   "mimetype": "text/x-python",
   "name": "python",
   "nbconvert_exporter": "python",
   "pygments_lexer": "ipython3",
   "version": "3.7.4"
  }
 },
 "nbformat": 4,
 "nbformat_minor": 4
}
