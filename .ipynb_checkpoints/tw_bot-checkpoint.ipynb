{
 "cells": [
  {
   "cell_type": "code",
   "execution_count": 51,
   "metadata": {},
   "outputs": [],
   "source": [
    "import tweepy\n",
    "import logging\n",
    "import time\n",
    "from nscrapy.nscrap import clarin\n",
    "\n",
    "logging.basicConfig(level=logging.INFO)\n",
    "logger = logging.getLogger()\n",
    "logger = logging.getLogger()\n",
    "\n",
    "\n",
    "consumer_key = \"EtKmd1NbqzXAZAIdWpb7xbRKg\"\n",
    "consumer_secret = \"R9tSQTZOv9wuDqis8UIhmLJ2jFUtATDYrTtUlTsb9UdGQk7GuJ\"\n",
    "access_token =\"1323692400158625792-Ve3TDs7u9kIoBiBYwLzE7oU7hjVDXj\"\n",
    "access_token_secret =\"kPe9lFls2BDokKMAGh2NdNGssXYWinN9iUlxVwQDN5iVC\"\n",
    "\n",
    "def tw_api():\n",
    "\n",
    "    auth = tweepy.OAuthHandler(consumer_key, consumer_secret)\n",
    "    auth.set_access_token(access_token, access_token_secret)\n",
    "    api = tweepy.API(auth, wait_on_rate_limit=True, wait_on_rate_limit_notify=True)\n",
    "    \n",
    "    try:\n",
    "        api.verify_credentials()\n",
    "    except Exception as e:\n",
    "        logger.error(\"Error creating API\", exc_info=True)\n",
    "        raise e\n",
    "    \n",
    "    logger.info(\"API created\")\n",
    "    return api\n",
    "\n",
    "\n",
    "def check_mentions(api, keywords, since_id):\n",
    "    logger.info(\"Retrieving mentions\")\n",
    "    new_since_id = since_id\n",
    "    tuits=tweepy.Cursor(api.mentions_timeline,since_id=since_id,tweet_mode=\"extended\").items()\n",
    "    for tweet in tuits:\n",
    "        new_since_id = max(tweet.id, new_since_id)     \n",
    "        \n",
    "        if tweet.in_reply_to_status_id is not None:\n",
    "            \n",
    "            if any(keyword in tweet.full_text.lower() for keyword in keywords):\n",
    "                logger.info(f\"Mention in {'https://twitter.com/twitter/statuses/'+tweet.id_str}\")\n",
    "                tuit0=api.get_status(tweet.in_reply_to_status_id,tweet_mode=\"extended\")\n",
    "                logger.info(f\"a reply to {'https://twitter.com/twitter/statuses/'+tuit0.id_str}\")\n",
    "                #api.update_status(status=\"Please reach us via DM\",in_reply_to_status_id=tweet.id)\n",
    "                url=tuit0.entities['urls'][0]['url']\n",
    "                logger.info(f\"found url: {url}\")\n",
    "                nota=clarin()\n",
    "                try:\n",
    "                    nota.get(url)\n",
    "                    n=240\n",
    "                    bold=' / '.join(nota.bolds)\n",
    "                    resus=[bold[i:i+n] for i in range(0, len(bold), n)]\n",
    "                    for resu in resus:    \n",
    "                        try:\n",
    "                            api.update_status(status=\"@\"+tweet.author.screen_name+' '+resu,in_reply_to_status_id=tweet.id)\n",
    "                        except:\n",
    "                            logger.info(f\"already summarized\")\n",
    "                        time.sleep(0.2)    \n",
    "                except:\n",
    "                    logger.info(f\"cant scrap\")\n",
    "\n",
    "def main():\n",
    "    api = create_api()\n",
    "    since_id = 1\n",
    "    since_id = check_mentions(api, [\" \"], since_id)\n",
    "\n",
    "\n",
    "\n"
   ]
  },
  {
   "cell_type": "code",
   "execution_count": 52,
   "metadata": {
    "scrolled": true
   },
   "outputs": [
    {
     "name": "stderr",
     "output_type": "stream",
     "text": [
      "INFO:root:API created\n",
      "INFO:root:Retrieving mentions\n",
      "INFO:root:Mention in https://twitter.com/twitter/statuses/1331187022812368896\n",
      "INFO:root:a reply to https://twitter.com/twitter/statuses/1331171990791741440\n",
      "INFO:root:found url: https://t.co/kjVXMNFf05\n",
      "INFO:root:Mention in https://twitter.com/twitter/statuses/1328845486518906882\n",
      "INFO:root:a reply to https://twitter.com/twitter/statuses/1328835480985677825\n",
      "INFO:root:found url: https://t.co/w8du5SumeG\n",
      "INFO:root:cant scrap\n",
      "INFO:root:Mention in https://twitter.com/twitter/statuses/1324516136638156809\n",
      "INFO:root:a reply to https://twitter.com/twitter/statuses/1324513373082525697\n",
      "INFO:root:found url: https://t.co/uQj8iYMDON\n",
      "INFO:root:Mention in https://twitter.com/twitter/statuses/1324514085560553472\n",
      "INFO:root:a reply to https://twitter.com/twitter/statuses/1324513374873542657\n",
      "INFO:root:found url: https://t.co/WIQJjEAfJX\n",
      "INFO:root:Mention in https://twitter.com/twitter/statuses/1323799200816107521\n",
      "INFO:root:a reply to https://twitter.com/twitter/statuses/1323759163164512257\n",
      "INFO:root:found url: https://t.co/8KTlJrkcWm\n",
      "INFO:root:Mention in https://twitter.com/twitter/statuses/1323794296315781120\n",
      "INFO:root:a reply to https://twitter.com/twitter/statuses/1323764276725731331\n",
      "INFO:root:found url: https://t.co/TpiFqlgzUk\n",
      "INFO:root:Mention in https://twitter.com/twitter/statuses/1323794121614643202\n",
      "INFO:root:a reply to https://twitter.com/twitter/statuses/1323775142602903558\n",
      "INFO:root:found url: https://t.co/ICkq9h5JSQ\n",
      "INFO:root:Mention in https://twitter.com/twitter/statuses/1323794013049233408\n",
      "INFO:root:a reply to https://twitter.com/twitter/statuses/1323781743812501504\n",
      "INFO:root:found url: https://t.co/e9weCqhYa0\n"
     ]
    }
   ],
   "source": [
    "api=tw_api()\n",
    "check_mentions(api, [\" \"], 1)"
   ]
  },
  {
   "cell_type": "code",
   "execution_count": 107,
   "metadata": {},
   "outputs": [
    {
     "name": "stderr",
     "output_type": "stream",
     "text": [
      "INFO:root:API created\n"
     ]
    }
   ],
   "source": [
    "api=tw_api()\n",
    "def mentions(api, keywords, since_id):\n",
    "    since_id = since_id\n",
    "    cursor=tweepy.Cursor(api.mentions_timeline,since_id=since_id,tweet_mode=\"extended\").items()\n",
    "    tuis=[]\n",
    "    for i,x in enumerate(cursor):\n",
    "        if x.in_reply_to_user_id_str != '1323692400158625792': \n",
    "            tuis.append(x)        \n",
    "            print(i)\n",
    "            print(x.full_text)\n",
    "            print(x.created_at)\n",
    "            print()\n",
    "            since_id = max(x.id, since_id)    \n",
    "    return(tuis,since_id)"
   ]
  },
  {
   "cell_type": "code",
   "execution_count": 153,
   "metadata": {},
   "outputs": [
    {
     "name": "stdout",
     "output_type": "stream",
     "text": [
      "0\n",
      "@cronica @dr_toolong\n",
      "2020-11-24 16:46:32\n",
      "\n",
      "1\n",
      "@cronica @dr_toolong\n",
      "2020-11-24 16:46:15\n",
      "\n"
     ]
    }
   ],
   "source": [
    "tuits,since_id=mentions(api, [\" \"], since_id)"
   ]
  },
  {
   "cell_type": "code",
   "execution_count": 158,
   "metadata": {},
   "outputs": [],
   "source": [
    "def response(tuits):\n",
    "    for tweet in tuits:\n",
    "        if tweet.in_reply_to_status_id is not None:  \n",
    "            if tweet.in_reply_to_user_id_str != '1323692400158625792':   \n",
    "                if 'cronica' in tweet.full_text:\n",
    "                    #quotes\n",
    "                    print('cronica')\n",
    "                    if 'q' in tweet.full_text:\n",
    "                        tuit0=api.get_status(tweet.in_reply_to_status_id,tweet_mode=\"extended\")\n",
    "                        url=tuit0.entities['urls'][0]['url']\n",
    "                        logger.info(f\"found url: {url}\")\n",
    "                        nota=cronica()\n",
    "                        try:\n",
    "                            nota.get(url)\n",
    "                            n=240\n",
    "                            bold=nota.quotes\n",
    "                            resus=[bold[i:i+n] for i in range(0, len(bold), n)]\n",
    "                            for j,resu in enumerate(resus):    \n",
    "\n",
    "                                if j == 0 :\n",
    "\n",
    "                                    try:\n",
    "                                        resp=api.update_status(status=\"@\"+tweet.author.screen_name+' '+resu,in_reply_to_status_id=tweet.id)\n",
    "                                    except:\n",
    "                                        logger.info(f\"fail to respond\")\n",
    "                                    time.sleep(1)  \n",
    "                                else  :\n",
    "                                    try:\n",
    "                                        resp=api.update_status(status=\"@dr_toolong\"+' '+resu,in_reply_to_status_id=resp.id)\n",
    "                                    except:\n",
    "                                        logger.info(f\"fail to respond\")\n",
    "                                    time.sleep(1)                          \n",
    "                        except:\n",
    "                            logger.info(f\"cant scrap\")                    \n",
    "\n",
    "\n",
    "\n",
    "\n",
    "                    else:    \n",
    "                        tuit0=api.get_status(tweet.in_reply_to_status_id,tweet_mode=\"extended\")\n",
    "                        logger.info(f\"a reply to {'https://twitter.com/twitter/statuses/'+tuit0.id_str}\")\n",
    "                        #api.update_status(status=\"Please reach us via DM\",in_reply_to_status_id=tweet.id)\n",
    "                        url=tuit0.entities['urls'][0]['url']\n",
    "                        logger.info(f\"found url: {url}\")\n",
    "                        nota=cronica()\n",
    "                        try:\n",
    "                            nota.get(url)\n",
    "                            n=240\n",
    "                            bold=' / '.join(nota.bolds)\n",
    "                            resus=[bold[i:i+n] for i in range(0, len(bold), n)]\n",
    "                            for j,resu in enumerate(resus):    \n",
    "\n",
    "                                if j == 0 :\n",
    "\n",
    "                                    try:\n",
    "                                        resp=api.update_status(status=\"@\"+tweet.author.screen_name+' '+resu,in_reply_to_status_id=tweet.id)\n",
    "                                    except:\n",
    "                                        logger.info(f\"fail to respond\")\n",
    "                                    time.sleep(1)  \n",
    "                                else  :\n",
    "                                    try:\n",
    "                                        resp=api.update_status(status=\"@dr_toolong\"+' '+resu,in_reply_to_status_id=resp.id)\n",
    "                                    except:\n",
    "                                        logger.info(f\"fail to respond\")\n",
    "                                    time.sleep(1)                          \n",
    "                        except:\n",
    "                            logger.info(f\"cant scrap\")\n",
    "                            \n",
    "                ### else clarin:            \n",
    "                else:\n",
    "                    print('clarin')\n",
    "                    if 'q' in tweet.full_text:\n",
    "                        tuit0=api.get_status(tweet.in_reply_to_status_id,tweet_mode=\"extended\")\n",
    "                        logger.info(f\"a reply to {'https://twitter.com/twitter/statuses/'+tuit0.id_str}\")\n",
    "                        #api.update_status(status=\"Please reach us via DM\",in_reply_to_status_id=tweet.id)\n",
    "                        url=tuit0.entities['urls'][0]['url']\n",
    "                        logger.info(f\"found url: {url}\")\n",
    "                        nota=clarin()\n",
    "                        try:\n",
    "                            nota.get(url)\n",
    "                            n=240\n",
    "                            bold=nota.quotes\n",
    "                            resus=[bold[i:i+n] for i in range(0, len(bold), n)]\n",
    "                            for j,resu in enumerate(resus):    \n",
    "\n",
    "                                if j == 0 :\n",
    "\n",
    "                                    try:\n",
    "                                        resp=api.update_status(status=\"@\"+tweet.author.screen_name+' '+resu,in_reply_to_status_id=tweet.id)\n",
    "                                    except:\n",
    "                                        logger.info(f\"fail to respond\")\n",
    "                                    time.sleep(1)  \n",
    "                                else  :\n",
    "                                    try:\n",
    "                                        resp=api.update_status(status=\"@dr_toolong\"+' '+resu,in_reply_to_status_id=resp.id)\n",
    "                                    except:\n",
    "                                        logger.info(f\"fail to respond\")\n",
    "                                    time.sleep(1)                          \n",
    "                        except:\n",
    "                            logger.info(f\"cant scrap\")                    \n",
    "\n",
    "\n",
    "\n",
    "\n",
    "                    else:    \n",
    "                        tuit0=api.get_status(tweet.in_reply_to_status_id,tweet_mode=\"extended\")\n",
    "                        logger.info(f\"a reply to {'https://twitter.com/twitter/statuses/'+tuit0.id_str}\")\n",
    "                        #api.update_status(status=\"Please reach us via DM\",in_reply_to_status_id=tweet.id)\n",
    "                        url=tuit0.entities['urls'][0]['url']\n",
    "                        logger.info(f\"found url: {url}\")\n",
    "                        nota=clarin()\n",
    "                        try:\n",
    "                            nota.get(url)\n",
    "                            n=240\n",
    "                            bold=' / '.join(nota.bolds)\n",
    "                            resus=[bold[i:i+n] for i in range(0, len(bold), n)]\n",
    "                            for j,resu in enumerate(resus):    \n",
    "\n",
    "                                if j == 0 :\n",
    "\n",
    "                                    try:\n",
    "                                        resp=api.update_status(status=\"@\"+tweet.author.screen_name+' '+resu,in_reply_to_status_id=tweet.id)\n",
    "                                    except:\n",
    "                                        logger.info(f\"fail to respond\")\n",
    "                                    time.sleep(1)  \n",
    "                                else  :\n",
    "                                    try:\n",
    "                                        resp=api.update_status(status=\"@dr_toolong\"+' '+resu,in_reply_to_status_id=resp.id)\n",
    "                                    except:\n",
    "                                        logger.info(f\"fail to respond\")\n",
    "                                    time.sleep(1)                          \n",
    "                        except:\n",
    "                            logger.info(f\"cant scrap\")"
   ]
  },
  {
   "cell_type": "code",
   "execution_count": 174,
   "metadata": {},
   "outputs": [
    {
     "name": "stdout",
     "output_type": "stream",
     "text": [
      "cronica\n"
     ]
    },
    {
     "name": "stderr",
     "output_type": "stream",
     "text": [
      "INFO:root:a reply to https://twitter.com/twitter/statuses/1331272495173865474\n",
      "INFO:root:found url: https://t.co/nIgwr2lsgT\n"
     ]
    },
    {
     "name": "stdout",
     "output_type": "stream",
     "text": [
      "cronica\n"
     ]
    },
    {
     "name": "stderr",
     "output_type": "stream",
     "text": [
      "INFO:root:a reply to https://twitter.com/twitter/statuses/1331275147697852419\n",
      "INFO:root:found url: https://t.co/T7TBhebrVW\n",
      "INFO:root:cant scrap\n"
     ]
    }
   ],
   "source": [
    "response(tuits)"
   ]
  },
  {
   "cell_type": "code",
   "execution_count": 145,
   "metadata": {},
   "outputs": [
    {
     "data": {
      "text/plain": [
       "True"
      ]
     },
     "execution_count": 145,
     "metadata": {},
     "output_type": "execute_result"
    }
   ],
   "source": [
    "'q' in tuits[0].full_text"
   ]
  },
  {
   "cell_type": "code",
   "execution_count": 151,
   "metadata": {},
   "outputs": [
    {
     "data": {
      "text/plain": [
       "False"
      ]
     },
     "execution_count": 151,
     "metadata": {},
     "output_type": "execute_result"
    }
   ],
   "source": [
    "'cronica' in tuits[0].full_text"
   ]
  },
  {
   "cell_type": "code",
   "execution_count": 173,
   "metadata": {},
   "outputs": [],
   "source": [
    "nota2=cronica()\n",
    "nota2.get('https://t.co/nIgwr2lsgT')"
   ]
  },
  {
   "cell_type": "code",
   "execution_count": null,
   "metadata": {},
   "outputs": [],
   "source": []
  },
  {
   "cell_type": "code",
   "execution_count": 22,
   "metadata": {},
   "outputs": [],
   "source": [
    "cursor=mentions(api, [\" \"], 1)"
   ]
  },
  {
   "cell_type": "code",
   "execution_count": 8,
   "metadata": {},
   "outputs": [
    {
     "ename": "TypeError",
     "evalue": "'ItemIterator' object is not subscriptable",
     "output_type": "error",
     "traceback": [
      "\u001b[1;31m---------------------------------------------------------------------------\u001b[0m",
      "\u001b[1;31mTypeError\u001b[0m                                 Traceback (most recent call last)",
      "\u001b[1;32m<ipython-input-8-9ab0ac8eae37>\u001b[0m in \u001b[0;36m<module>\u001b[1;34m\u001b[0m\n\u001b[1;32m----> 1\u001b[1;33m \u001b[1;33m[\u001b[0m \u001b[0mx\u001b[0m \u001b[1;32mfor\u001b[0m \u001b[0mx\u001b[0m \u001b[1;32min\u001b[0m \u001b[0mdir\u001b[0m\u001b[1;33m(\u001b[0m\u001b[0mcursor\u001b[0m\u001b[1;33m[\u001b[0m\u001b[1;36m0\u001b[0m\u001b[1;33m]\u001b[0m\u001b[1;33m)\u001b[0m \u001b[1;32mif\u001b[0m \u001b[0mx\u001b[0m\u001b[1;33m[\u001b[0m\u001b[1;36m0\u001b[0m\u001b[1;33m]\u001b[0m \u001b[1;33m!=\u001b[0m \u001b[1;34m'_'\u001b[0m \u001b[1;33m]\u001b[0m\u001b[1;33m\u001b[0m\u001b[1;33m\u001b[0m\u001b[0m\n\u001b[0m",
      "\u001b[1;31mTypeError\u001b[0m: 'ItemIterator' object is not subscriptable"
     ]
    }
   ],
   "source": [
    "[ x for x in dir(cursor[0]) if x[0] != '_' ]"
   ]
  },
  {
   "cell_type": "code",
   "execution_count": 23,
   "metadata": {},
   "outputs": [],
   "source": [
    "tuis=[]\n",
    "for x in cursor:\n",
    "    tuis.append(x)"
   ]
  },
  {
   "cell_type": "code",
   "execution_count": 24,
   "metadata": {},
   "outputs": [
    {
     "name": "stdout",
     "output_type": "stream",
     "text": [
      "0\n",
      "@clarincom @dr_toolong\n",
      "2020-11-24 10:44:53\n",
      "\n",
      "1\n",
      "@cronica @dr_toolong\n",
      "2020-11-17 23:40:27\n",
      "\n",
      "2\n",
      "@clarincom @dr_toolong\n",
      "2020-11-06 00:57:09\n",
      "\n",
      "3\n",
      "@clarincom @dr_toolong\n",
      "2020-11-06 00:49:00\n",
      "\n",
      "4\n",
      "@clarincom @dr_toolong\n",
      "2020-11-04 01:28:19\n",
      "\n",
      "5\n",
      "@clarincom @baitbot2\n",
      "2020-11-04 01:08:49\n",
      "\n",
      "6\n",
      "@clarincom @baitbot2\n",
      "2020-11-04 01:08:08\n",
      "\n",
      "7\n",
      "@clarincom @baitbot2\n",
      "2020-11-04 01:07:42\n",
      "\n"
     ]
    }
   ],
   "source": [
    "for i,x in enumerate(tuis):\n",
    "    print(i)\n",
    "    print(x.full_text)\n",
    "    print(x.created_at)\n",
    "    print()"
   ]
  },
  {
   "cell_type": "code",
   "execution_count": null,
   "metadata": {},
   "outputs": [],
   "source": [
    "tuis[0]."
   ]
  },
  {
   "cell_type": "code",
   "execution_count": 34,
   "metadata": {},
   "outputs": [],
   "source": [
    "bot=api.me()"
   ]
  },
  {
   "cell_type": "code",
   "execution_count": 35,
   "metadata": {},
   "outputs": [
    {
     "data": {
      "text/plain": [
       "Status(_api=<tweepy.api.API object at 0x000001C6D6AF1C48>, _json={'created_at': 'Tue Nov 24 12:40:17 +0000 2020', 'id': 1331216065007915008, 'id_str': '1331216065007915008', 'text': '@muydipalma sas es muy lindo. me mató cuando lo conocí personalmente. la sorprendente publicación de su ex, Lucas K… https://t.co/0t8et3Wyxt', 'truncated': True, 'entities': {'hashtags': [], 'symbols': [], 'user_mentions': [{'screen_name': 'muydipalma', 'name': 'muydipalma', 'id': 152852117, 'id_str': '152852117', 'indices': [0, 11]}], 'urls': [{'url': 'https://t.co/0t8et3Wyxt', 'expanded_url': 'https://twitter.com/i/web/status/1331216065007915008', 'display_url': 'twitter.com/i/web/status/1…', 'indices': [117, 140]}]}, 'source': '', 'in_reply_to_status_id': 1324514085560553472, 'in_reply_to_status_id_str': '1324514085560553472', 'in_reply_to_user_id': 152852117, 'in_reply_to_user_id_str': '152852117', 'in_reply_to_screen_name': 'muydipalma', 'geo': None, 'coordinates': None, 'place': None, 'contributors': None, 'is_quote_status': False, 'retweet_count': 0, 'favorite_count': 0, 'favorited': False, 'retweeted': False, 'lang': 'es'}, created_at=datetime.datetime(2020, 11, 24, 12, 40, 17), id=1331216065007915008, id_str='1331216065007915008', text='@muydipalma sas es muy lindo. me mató cuando lo conocí personalmente. la sorprendente publicación de su ex, Lucas K… https://t.co/0t8et3Wyxt', truncated=True, entities={'hashtags': [], 'symbols': [], 'user_mentions': [{'screen_name': 'muydipalma', 'name': 'muydipalma', 'id': 152852117, 'id_str': '152852117', 'indices': [0, 11]}], 'urls': [{'url': 'https://t.co/0t8et3Wyxt', 'expanded_url': 'https://twitter.com/i/web/status/1331216065007915008', 'display_url': 'twitter.com/i/web/status/1…', 'indices': [117, 140]}]}, source='', source_url=None, in_reply_to_status_id=1324514085560553472, in_reply_to_status_id_str='1324514085560553472', in_reply_to_user_id=152852117, in_reply_to_user_id_str='152852117', in_reply_to_screen_name='muydipalma', geo=None, coordinates=None, place=None, contributors=None, is_quote_status=False, retweet_count=0, favorite_count=0, favorited=False, retweeted=False, lang='es')"
      ]
     },
     "execution_count": 35,
     "metadata": {},
     "output_type": "execute_result"
    }
   ],
   "source": [
    "bot.status"
   ]
  },
  {
   "cell_type": "code",
   "execution_count": 175,
   "metadata": {},
   "outputs": [],
   "source": [
    "def delete_all(api):\n",
    "    for status in tweepy.Cursor(api.user_timeline).items():\n",
    "        try:\n",
    "            api.destroy_status(status.id)\n",
    "        except:\n",
    "            pass"
   ]
  },
  {
   "cell_type": "code",
   "execution_count": 40,
   "metadata": {},
   "outputs": [],
   "source": [
    "delete_all(api)"
   ]
  },
  {
   "cell_type": "code",
   "execution_count": 42,
   "metadata": {},
   "outputs": [],
   "source": [
    "for x in tweepy.Cursor(api.user_timeline).items():\n",
    "    print(x.full_text)"
   ]
  },
  {
   "cell_type": "code",
   "execution_count": 276,
   "metadata": {},
   "outputs": [],
   "source": [
    "import requests as r\n",
    "from bs4 import BeautifulSoup as bs\n",
    "import urllib\n",
    "import json\n",
    "import time\n",
    "\n",
    "class clarin():\n",
    "    def __init__(self):\n",
    "        self.url='https://www.clarin.com'\n",
    "    \n",
    "    \n",
    "    urlc='https://login.clarin.com/comments.getComments'\n",
    "    urlcp='https://login.clarin.com/comments.getComments?categoryID=Com_03&streamID=H1Y2WMTS-&includeSettings=true&threaded=true&includeStreamInfo=true&includeUserOptions=true&includeUserHighlighting=true&lang=es&ctag=comments_v2&APIKey=2_fq_ZOJSR4xNZtv2rA8DALl1Gxp7yTYMb3UdER6zerupB55mwkzh9pVBz4Blzi8SW&source=showCommentsUI&sourceData=%7B%22categoryID%22%3A%22Com_03%22%2C%22streamID%22%3A%22H1Y2WMTS-%22%7D&sdk=js_latest&authMode=cookie&pageURL=https%3A%2F%2Fwww.clarin.com%2Fpolitica%2Facuerdo-cambiemos-massismo-echar-vido-camara-diputados_0_H1Y2WMTS-.html&format=jsonp&callback=gigya.callback&context=R4169081209'\n",
    "    urlp=urllib.parse.urlparse(urlcp)\n",
    "    keys=urllib.parse.parse_qs(urlp.query)\n",
    " \n",
    "    \n",
    "    def get(self,url):\n",
    "\n",
    "        nota=r.get(url)\n",
    "        sopa=bs(nota.content,features=\"lxml\")\n",
    "        ps=sopa.find('div','body-nota').findAll('p')\n",
    "        st=sopa.find('div','body-nota').findAll('strong')\n",
    "        self.volanta=sopa.find('p','volanta').text\n",
    "        self.titulo=sopa.find('h1').text\n",
    "        self.bajada=sopa.find('div','bajada').find('h2').text\n",
    "        texto=list()\n",
    "        for p in ps:\n",
    "            if p.text == \"COMENTARIOS\":\n",
    "                break\n",
    "            texto.append(p.text)\n",
    "        bolds=list()    \n",
    "        for b in st:\n",
    "            bolds.append(b.text)            \n",
    "        self.cuerpo=' '.join(texto)\n",
    "        self.quotes=' / '.join(self.cuerpo.split('\"')[1::2])\n",
    "        self.bold=' '.join(bolds)\n",
    "        self.bolds=bolds\n",
    "        keys=self.keys\n",
    "        keys['pageURL'][0]=url\n",
    "        keys['streamID'][0]=url[-14:-5]\n",
    "        cm=r.get(self.urlc,params=keys)\n",
    "        d = json.loads(cm.text[15:-2])\n",
    "        self.comm=[x['commentText'] for x in d['comments']]\n",
    "        self.com=' '.join(self.comm)\n",
    "      \n",
    "    def hoy(self):            \n",
    "        notas=r.get(self.url)\n",
    "        sopa=bs(notas.content,features=\"lxml\")\n",
    "        urls=[x.find('a').get('href') for x in sopa.find_all('article')]\n",
    "        boxs=list()\n",
    "\n",
    "        for x in sopa.find_all('div', {'class':'on-demand'}):\n",
    "            boxs.append(self.url+x.get('data-src'))\n",
    "\n",
    "        reqs=list()\n",
    "        # son 69 pero hasta el 8 tienen cosas\n",
    "        for x in boxs[:9]:\n",
    "            reqs.append(r.get(x))\n",
    "            #para evitar ban pongo pausa\n",
    "            time.sleep(0.2)\n",
    "\n",
    "        box0=json.loads(reqs[0].content.decode().strip('()'))['data']\n",
    "        sopa0=bs(box0,features=\"lxml\")\n",
    "\n",
    "        for x in sopa0.find_all('a'): \n",
    "            urls.append(x.get('href'))\n",
    "\n",
    "\n",
    "        for n,x in enumerate(reqs[1:]):\n",
    "            box=json.loads(x.content.decode().strip('()'))['data']\n",
    "            sopa=bs(box,features=\"lxml\")\n",
    "            for y in sopa.find_all('article'):      \n",
    "                urls.append(y.find('a').get('href'))                                        \n",
    "\n",
    "        box7=json.loads(reqs[7].content.decode().strip('()'))['data']\n",
    "        sopa7=bs(box7,features=\"lxml\")\n",
    "        for x in sopa7.find('div',{'class':'mas-vistas'}).find_all('div')[1].find_all('div',{'onclick' : True}):\n",
    "            urls.append(x.get('onclick')[13:-11])  \n",
    "        urls2=list()    \n",
    "        for u in urls:\n",
    "            if u[:4] == 'http':\n",
    "                urls2.append(u)\n",
    "            else:\n",
    "                urls2.append('https://www.clarin.com'+u)\n",
    "        self.urls=urls2\n",
    "        \n",
    "        \n",
    "        \n",
    "class cronica():\n",
    "    def __init__(self):\n",
    "        self.url='https://www.cronica.com.ar/'\n",
    "   \n",
    "    def get(self,url):        \n",
    "        nota=r.get(url)\n",
    "        sopa=bs(nota.content,features=\"lxml\")\n",
    "        self.volanta=None\n",
    "        self.titulo=sopa.find('h1').text\n",
    "        self.bajada=sopa.find('div',{'class' : 'title'}).text\n",
    "        bolds=[x.text for x in sopa.find('div', { 'class' :\"entry-body text-font\"}).findAll('strong')]           \n",
    "        self.bold=' / '.join(bolds)\n",
    "        self.bolds=bolds    \n",
    "        self.cuerpo=sopa.find('div', { 'class' :\"entry-body text-font\"}).text\n",
    "        self.quotes=' / '.join(self.cuerpo.split('\"')[1::2])\n",
    "\n",
    "import unicodedata\n",
    "\n",
    "class dshow():\n",
    "    def __init__(self):\n",
    "        self.url='https://www.diarioshow.com/'\n",
    "   \n",
    "    def get(self,url):        \n",
    "        nota=r.get(url)\n",
    "        sopa=bs(nota.content,features=\"lxml\")\n",
    "        self.volanta=None\n",
    "        self.titulo=sopa.find('h1').text\n",
    "        self.bajada=unicodedata.normalize(\"NFKD\",sopa.find('div',{'class' : 'title'}).get_text(strip=True))\n",
    "        bolds=[unicodedata.normalize(\"NFKD\",x.get_text(strip=True)) for x in sopa.find('div', { 'class' :\"entry-body text-font\"}).findAll('strong')]           \n",
    "        self.bold=' / '.join(bolds)\n",
    "        self.bolds=bolds   \n",
    "        bulk=sopa.find('div', { 'class' :\"entry-body text-font\"}).find_all('p')\n",
    "        self.cuerpo=''.join([unicodedata.normalize(\"NFKD\",x.get_text()) for x in bulk])\n",
    "        self.quotes=' / '.join([x.split('”')[0] for x in self.cuerpo.split('“')[1:]])"
   ]
  },
  {
   "cell_type": "code",
   "execution_count": 256,
   "metadata": {},
   "outputs": [],
   "source": [
    "url='https://www.diarioshow.com/farandula/Quien-es-Agustina-Cosachov-la-nueva-mujer-en-la-vida-de-Diego-Maradona-20201124-0014.html'"
   ]
  },
  {
   "cell_type": "code",
   "execution_count": 283,
   "metadata": {},
   "outputs": [
    {
     "data": {
      "text/plain": [
       "True"
      ]
     },
     "execution_count": 283,
     "metadata": {},
     "output_type": "execute_result"
    }
   ],
   "source": [
    "'https://www.diarioshow.com/' in url"
   ]
  },
  {
   "cell_type": "code",
   "execution_count": 277,
   "metadata": {},
   "outputs": [],
   "source": [
    "nota=dshow()\n",
    "nota.get(url)"
   ]
  },
  {
   "cell_type": "code",
   "execution_count": 278,
   "metadata": {},
   "outputs": [
    {
     "data": {
      "text/plain": [
       "'¿Quién es Agustina Cosachov, la nueva mujer en la vida de Diego Maradona?'"
      ]
     },
     "execution_count": 278,
     "metadata": {},
     "output_type": "execute_result"
    }
   ],
   "source": [
    "nota.titulo"
   ]
  },
  {
   "cell_type": "code",
   "execution_count": 279,
   "metadata": {},
   "outputs": [
    {
     "data": {
      "text/plain": [
       "'Después de unas semanas de descanso tras la neurocirugía por un hematoma subdural, el ex futbolista encontró a su nueva compañera.¡Más detalles, en la nota!'"
      ]
     },
     "execution_count": 279,
     "metadata": {},
     "output_type": "execute_result"
    }
   ],
   "source": [
    "nota.bajada"
   ]
  },
  {
   "cell_type": "code",
   "execution_count": 280,
   "metadata": {},
   "outputs": [
    {
     "data": {
      "text/plain": [
       "'Diego Maradona se encuentra en plena recuperación después de haber atravesado unas duras semanas por la operación a la que fue sometido por un hematoma subdural. Rodeado por su familia, el DT de Gimnasia y Esgrima de La Plata dejó entrar en su círculo más cercano a una nueva mujer.Fue de esta forma que Jorge Rial dio la primicia en \"Intrusos\" al revelar que Agustina Cosachov “logró entrar en el lugar más difícil de Diego: su cabeza”.“Recién caigo en la cuenta de que son todas mujeres las que rondan en la vida de Diego. No es que apareció hoy en la vida de Maradona, apareció hoy para nosotros, aunque tampoco hace tanto es que apareció. Pero es una mujer que se ha ganado su confianza, que no es fácil”, indicó el periodista.“Cuando hablo de su cabeza, no digo lo físico, que ese fue el doctor Leopoldo Luque y que ya está solucionado lo de la operación. Hablo de que ahora viene lo otro, lo que tiene que ver con todo el tema psicológico”, explicó el conductor.Relacionado con la noticia de que Maradona se había aislado a sí mismo y estaba \"retraído\", Rial relacionó: “Esto tiene que ver con su estado de ánimo y acá entra esta señorita, señora, chica, no lo sé bien, llamada Agustina. Es la psiquiatra y lo conoció antes de la operación. Ya hablaba con él, y parece que esta profesional entró bien y él la escucha”.Cosachov es egresada de la Universidad de Buenos Aires y se especializa en adicciones. Es docente de psicofarmacología de la carrera de Psicología en la Universidad Barceló y docente de la carrera de Psicoterapia en la Fundación Aiglé.'"
      ]
     },
     "execution_count": 280,
     "metadata": {},
     "output_type": "execute_result"
    }
   ],
   "source": [
    "nota.cuerpo"
   ]
  },
  {
   "cell_type": "code",
   "execution_count": 281,
   "metadata": {},
   "outputs": [
    {
     "data": {
      "text/plain": [
       "'Diego Maradona / Jorge Rial / Agustina Cosachov / su cabeza / Leopoldo Luque / psicológico / Es la psiquiatra y lo conoció antes de la operación'"
      ]
     },
     "execution_count": 281,
     "metadata": {},
     "output_type": "execute_result"
    }
   ],
   "source": [
    "nota.bold"
   ]
  },
  {
   "cell_type": "code",
   "execution_count": 282,
   "metadata": {
    "scrolled": true
   },
   "outputs": [
    {
     "data": {
      "text/plain": [
       "'logró entrar en el lugar más difícil de Diego: su cabeza / Recién caigo en la cuenta de que son todas mujeres las que rondan en la vida de Diego. No es que apareció hoy en la vida de Maradona, apareció hoy para nosotros, aunque tampoco hace tanto es que apareció. Pero es una mujer que se ha ganado su confianza, que no es fácil / Cuando hablo de su cabeza, no digo lo físico, que ese fue el doctor Leopoldo Luque y que ya está solucionado lo de la operación. Hablo de que ahora viene lo otro, lo que tiene que ver con todo el tema psicológico / Esto tiene que ver con su estado de ánimo y acá entra esta señorita, señora, chica, no lo sé bien, llamada Agustina. Es la psiquiatra y lo conoció antes de la operación. Ya hablaba con él, y parece que esta profesional entró bien y él la escucha'"
      ]
     },
     "execution_count": 282,
     "metadata": {},
     "output_type": "execute_result"
    }
   ],
   "source": [
    "nota.quotes"
   ]
  },
  {
   "cell_type": "code",
   "execution_count": null,
   "metadata": {},
   "outputs": [],
   "source": []
  },
  {
   "cell_type": "code",
   "execution_count": null,
   "metadata": {},
   "outputs": [],
   "source": []
  },
  {
   "cell_type": "code",
   "execution_count": null,
   "metadata": {},
   "outputs": [],
   "source": []
  },
  {
   "cell_type": "code",
   "execution_count": 176,
   "metadata": {},
   "outputs": [
    {
     "data": {
      "text/plain": [
       "1331278038559027201"
      ]
     },
     "execution_count": 176,
     "metadata": {},
     "output_type": "execute_result"
    }
   ],
   "source": [
    "since_id"
   ]
  },
  {
   "cell_type": "code",
   "execution_count": 179,
   "metadata": {},
   "outputs": [],
   "source": [
    "import sys"
   ]
  },
  {
   "cell_type": "code",
   "execution_count": 185,
   "metadata": {},
   "outputs": [
    {
     "name": "stdout",
     "output_type": "stream",
     "text": [
      "can only concatenate str (not \"int\") to str\n"
     ]
    }
   ],
   "source": [
    "try:\n",
    "    print('culo'+2)\n",
    "except:\n",
    "    e = sys.exc_info()[1]\n",
    "    print(e)"
   ]
  },
  {
   "cell_type": "code",
   "execution_count": null,
   "metadata": {},
   "outputs": [],
   "source": []
  },
  {
   "cell_type": "code",
   "execution_count": null,
   "metadata": {},
   "outputs": [],
   "source": []
  },
  {
   "cell_type": "code",
   "execution_count": null,
   "metadata": {},
   "outputs": [],
   "source": []
  },
  {
   "cell_type": "code",
   "execution_count": 136,
   "metadata": {},
   "outputs": [],
   "source": [
    "nota=clarin()\n",
    "nota.get('https://www.clarin.com/fama/abogada-elba-marcovecchio-blanqueo-noviazgo-jorge-lanata_0_7OPYgl5sc.html')"
   ]
  },
  {
   "cell_type": "code",
   "execution_count": 137,
   "metadata": {},
   "outputs": [
    {
     "data": {
      "text/plain": [
       "'¿Vos estás casada o sos soltera? / Sí, es cierto que salgo con Lanata y estoy enamorada desde el primer día / ¿Qué me enamoró de él? Me enamoró todo. De la gente te gusta todo o no te gusta nada. Y de Jorge me gusta todo, desde el día 1 / una cuestión laboral / Estaba averiguando por los derechos de imagen y le consulté algo a él / muy intenso / Estamos saliendo desde hace poco / ¿Quieren saber quién dio el primer paso? Yo lo único que voy a contestar es que soy muy femenina y él es muy caballero'"
      ]
     },
     "execution_count": 137,
     "metadata": {},
     "output_type": "execute_result"
    }
   ],
   "source": [
    "nota.quotes"
   ]
  },
  {
   "cell_type": "code",
   "execution_count": 140,
   "metadata": {},
   "outputs": [
    {
     "data": {
      "text/plain": [
       "'Elba Marcovecchio Fernando Burlando Jorge Lanata Cau Bornes es cierto que salgo con Lanata y estoy enamorada desde el primer día  Me enamoró todo muy intenso Estamos saliendo desde hace poco es viuda y madre de dos chicos  Instagram  es padre de dos mujeres Andrea Rodríguez Sara Stewart Brown'"
      ]
     },
     "execution_count": 140,
     "metadata": {},
     "output_type": "execute_result"
    }
   ],
   "source": [
    "nota.bold"
   ]
  },
  {
   "cell_type": "code",
   "execution_count": null,
   "metadata": {},
   "outputs": [],
   "source": []
  },
  {
   "cell_type": "code",
   "execution_count": null,
   "metadata": {},
   "outputs": [],
   "source": []
  },
  {
   "cell_type": "code",
   "execution_count": null,
   "metadata": {},
   "outputs": [],
   "source": []
  },
  {
   "cell_type": "code",
   "execution_count": 387,
   "metadata": {},
   "outputs": [],
   "source": [
    "dic_nws={ 'cronica':'cronica','clarin':'clarincom'}"
   ]
  },
  {
   "cell_type": "code",
   "execution_count": 388,
   "metadata": {},
   "outputs": [],
   "source": [
    "\n",
    "tuits = api.user_timeline(screen_name=dic_nws['clarin'], \n",
    "                           # 200 is the maximum allowed count\n",
    "                           count=200,\n",
    "                           include_rts = False,\n",
    "                           tweet_mode = 'extended'\n",
    "                           )"
   ]
  },
  {
   "cell_type": "code",
   "execution_count": 389,
   "metadata": {
    "scrolled": true
   },
   "outputs": [
    {
     "data": {
      "text/plain": [
       "200"
      ]
     },
     "execution_count": 389,
     "metadata": {},
     "output_type": "execute_result"
    }
   ],
   "source": [
    "len(tuits)"
   ]
  },
  {
   "cell_type": "code",
   "execution_count": 341,
   "metadata": {},
   "outputs": [],
   "source": [
    "import pandas as pd"
   ]
  },
  {
   "cell_type": "code",
   "execution_count": 396,
   "metadata": {},
   "outputs": [],
   "source": [
    "data=[]\n",
    "for j,x in enumerate(tuits):\n",
    "    data.append([x.id,x.full_text,x.favorite_count,x.retweet_count,x.created_at])\n",
    "\n",
    "df=pd.DataFrame(data, columns=['id','txt','favs','rts','t'])\n",
    "df['dt']=df.t-df.t[0]\n",
    "df['dt']=df['dt'].apply(lambda x: (-x.total_seconds()+1)/3600 )\n",
    "df['r']=(df['favs']+df['rts'])/df['dt']\n",
    "df=df.sort_values('r',ascending=False)"
   ]
  },
  {
   "cell_type": "code",
   "execution_count": 397,
   "metadata": {},
   "outputs": [
    {
     "data": {
      "text/html": [
       "<div>\n",
       "<style scoped>\n",
       "    .dataframe tbody tr th:only-of-type {\n",
       "        vertical-align: middle;\n",
       "    }\n",
       "\n",
       "    .dataframe tbody tr th {\n",
       "        vertical-align: top;\n",
       "    }\n",
       "\n",
       "    .dataframe thead th {\n",
       "        text-align: right;\n",
       "    }\n",
       "</style>\n",
       "<table border=\"1\" class=\"dataframe\">\n",
       "  <thead>\n",
       "    <tr style=\"text-align: right;\">\n",
       "      <th></th>\n",
       "      <th>id</th>\n",
       "      <th>txt</th>\n",
       "      <th>favs</th>\n",
       "      <th>rts</th>\n",
       "      <th>t</th>\n",
       "      <th>dt</th>\n",
       "      <th>r</th>\n",
       "    </tr>\n",
       "  </thead>\n",
       "  <tbody>\n",
       "    <tr>\n",
       "      <th>0</th>\n",
       "      <td>1331362732566786048</td>\n",
       "      <td>Polémica por la funcionaria Ornella Infante, q...</td>\n",
       "      <td>1</td>\n",
       "      <td>1</td>\n",
       "      <td>2020-11-24 22:23:05</td>\n",
       "      <td>0.000278</td>\n",
       "      <td>7200.000000</td>\n",
       "    </tr>\n",
       "    <tr>\n",
       "      <th>1</th>\n",
       "      <td>1331361724667203584</td>\n",
       "      <td>Llevaban $ 7,6 millones en el baúl de un auto ...</td>\n",
       "      <td>8</td>\n",
       "      <td>0</td>\n",
       "      <td>2020-11-24 22:19:05</td>\n",
       "      <td>0.066944</td>\n",
       "      <td>119.502075</td>\n",
       "    </tr>\n",
       "    <tr>\n",
       "      <th>44</th>\n",
       "      <td>1331286667987202054</td>\n",
       "      <td>Sobreseyeron a Cristina Kirchner en un causa v...</td>\n",
       "      <td>261</td>\n",
       "      <td>42</td>\n",
       "      <td>2020-11-24 17:20:50</td>\n",
       "      <td>5.037778</td>\n",
       "      <td>60.145567</td>\n",
       "    </tr>\n",
       "    <tr>\n",
       "      <th>60</th>\n",
       "      <td>1331264206872711168</td>\n",
       "      <td>La abogada Elba Marcovecchio blanqueó su novia...</td>\n",
       "      <td>278</td>\n",
       "      <td>21</td>\n",
       "      <td>2020-11-24 15:51:35</td>\n",
       "      <td>6.525278</td>\n",
       "      <td>45.821804</td>\n",
       "    </tr>\n",
       "    <tr>\n",
       "      <th>4</th>\n",
       "      <td>1331358795587522561</td>\n",
       "      <td>Ahora el Gobierno asegura que podría empezar l...</td>\n",
       "      <td>10</td>\n",
       "      <td>1</td>\n",
       "      <td>2020-11-24 22:07:26</td>\n",
       "      <td>0.261111</td>\n",
       "      <td>42.127660</td>\n",
       "    </tr>\n",
       "    <tr>\n",
       "      <th>84</th>\n",
       "      <td>1331213591442313218</td>\n",
       "      <td>Más polémica en Formosa: le negaron una ambula...</td>\n",
       "      <td>312</td>\n",
       "      <td>99</td>\n",
       "      <td>2020-11-24 12:30:27</td>\n",
       "      <td>9.877500</td>\n",
       "      <td>41.609719</td>\n",
       "    </tr>\n",
       "    <tr>\n",
       "      <th>14</th>\n",
       "      <td>1331346075299483649</td>\n",
       "      <td>Polémica por la funcionaria Ornella Infante, q...</td>\n",
       "      <td>36</td>\n",
       "      <td>6</td>\n",
       "      <td>2020-11-24 21:16:54</td>\n",
       "      <td>1.103333</td>\n",
       "      <td>38.066465</td>\n",
       "    </tr>\n",
       "    <tr>\n",
       "      <th>34</th>\n",
       "      <td>1331311134436192257</td>\n",
       "      <td>AHORA: Sobreseyeron a Cristina Kirchner en un ...</td>\n",
       "      <td>104</td>\n",
       "      <td>21</td>\n",
       "      <td>2020-11-24 18:58:03</td>\n",
       "      <td>3.417500</td>\n",
       "      <td>36.576445</td>\n",
       "    </tr>\n",
       "    <tr>\n",
       "      <th>5</th>\n",
       "      <td>1331358017137369088</td>\n",
       "      <td>Proponen expropiar y recuperar la casa natal d...</td>\n",
       "      <td>11</td>\n",
       "      <td>0</td>\n",
       "      <td>2020-11-24 22:04:21</td>\n",
       "      <td>0.312500</td>\n",
       "      <td>35.200000</td>\n",
       "    </tr>\n",
       "    <tr>\n",
       "      <th>3</th>\n",
       "      <td>1331359423516848136</td>\n",
       "      <td>🛑Coronavirus en Argentina: informan 7.164 nuev...</td>\n",
       "      <td>5</td>\n",
       "      <td>2</td>\n",
       "      <td>2020-11-24 22:09:56</td>\n",
       "      <td>0.219444</td>\n",
       "      <td>31.898734</td>\n",
       "    </tr>\n",
       "    <tr>\n",
       "      <th>8</th>\n",
       "      <td>1331353947983011841</td>\n",
       "      <td>Murió Christophe Dominici: el petiso valiente ...</td>\n",
       "      <td>14</td>\n",
       "      <td>3</td>\n",
       "      <td>2020-11-24 21:48:11</td>\n",
       "      <td>0.581944</td>\n",
       "      <td>29.212411</td>\n",
       "    </tr>\n",
       "    <tr>\n",
       "      <th>13</th>\n",
       "      <td>1331346947735752707</td>\n",
       "      <td>🛑AHORA: Bomberos trabajan en el lugar. Por el ...</td>\n",
       "      <td>23</td>\n",
       "      <td>6</td>\n",
       "      <td>2020-11-24 21:20:22</td>\n",
       "      <td>1.045556</td>\n",
       "      <td>27.736451</td>\n",
       "    </tr>\n",
       "    <tr>\n",
       "      <th>64</th>\n",
       "      <td>1331257090682155014</td>\n",
       "      <td>Marcelo Longobardi, sobre la moratoria de la A...</td>\n",
       "      <td>142</td>\n",
       "      <td>19</td>\n",
       "      <td>2020-11-24 15:23:18</td>\n",
       "      <td>6.996667</td>\n",
       "      <td>23.010958</td>\n",
       "    </tr>\n",
       "    <tr>\n",
       "      <th>158</th>\n",
       "      <td>1330956056500051981</td>\n",
       "      <td>Indignación en Formosa: el gobierno autorizó a...</td>\n",
       "      <td>485</td>\n",
       "      <td>124</td>\n",
       "      <td>2020-11-23 19:27:06</td>\n",
       "      <td>26.933333</td>\n",
       "      <td>22.611386</td>\n",
       "    </tr>\n",
       "    <tr>\n",
       "      <th>15</th>\n",
       "      <td>1331345003294154762</td>\n",
       "      <td>Viviana Canosa arremetió contra Adrián Pallare...</td>\n",
       "      <td>22</td>\n",
       "      <td>1</td>\n",
       "      <td>2020-11-24 21:12:38</td>\n",
       "      <td>1.174444</td>\n",
       "      <td>19.583728</td>\n",
       "    </tr>\n",
       "  </tbody>\n",
       "</table>\n",
       "</div>"
      ],
      "text/plain": [
       "                      id                                                txt  \\\n",
       "0    1331362732566786048  Polémica por la funcionaria Ornella Infante, q...   \n",
       "1    1331361724667203584  Llevaban $ 7,6 millones en el baúl de un auto ...   \n",
       "44   1331286667987202054  Sobreseyeron a Cristina Kirchner en un causa v...   \n",
       "60   1331264206872711168  La abogada Elba Marcovecchio blanqueó su novia...   \n",
       "4    1331358795587522561  Ahora el Gobierno asegura que podría empezar l...   \n",
       "84   1331213591442313218  Más polémica en Formosa: le negaron una ambula...   \n",
       "14   1331346075299483649  Polémica por la funcionaria Ornella Infante, q...   \n",
       "34   1331311134436192257  AHORA: Sobreseyeron a Cristina Kirchner en un ...   \n",
       "5    1331358017137369088  Proponen expropiar y recuperar la casa natal d...   \n",
       "3    1331359423516848136  🛑Coronavirus en Argentina: informan 7.164 nuev...   \n",
       "8    1331353947983011841  Murió Christophe Dominici: el petiso valiente ...   \n",
       "13   1331346947735752707  🛑AHORA: Bomberos trabajan en el lugar. Por el ...   \n",
       "64   1331257090682155014  Marcelo Longobardi, sobre la moratoria de la A...   \n",
       "158  1330956056500051981  Indignación en Formosa: el gobierno autorizó a...   \n",
       "15   1331345003294154762  Viviana Canosa arremetió contra Adrián Pallare...   \n",
       "\n",
       "     favs  rts                   t         dt            r  \n",
       "0       1    1 2020-11-24 22:23:05   0.000278  7200.000000  \n",
       "1       8    0 2020-11-24 22:19:05   0.066944   119.502075  \n",
       "44    261   42 2020-11-24 17:20:50   5.037778    60.145567  \n",
       "60    278   21 2020-11-24 15:51:35   6.525278    45.821804  \n",
       "4      10    1 2020-11-24 22:07:26   0.261111    42.127660  \n",
       "84    312   99 2020-11-24 12:30:27   9.877500    41.609719  \n",
       "14     36    6 2020-11-24 21:16:54   1.103333    38.066465  \n",
       "34    104   21 2020-11-24 18:58:03   3.417500    36.576445  \n",
       "5      11    0 2020-11-24 22:04:21   0.312500    35.200000  \n",
       "3       5    2 2020-11-24 22:09:56   0.219444    31.898734  \n",
       "8      14    3 2020-11-24 21:48:11   0.581944    29.212411  \n",
       "13     23    6 2020-11-24 21:20:22   1.045556    27.736451  \n",
       "64    142   19 2020-11-24 15:23:18   6.996667    23.010958  \n",
       "158   485  124 2020-11-23 19:27:06  26.933333    22.611386  \n",
       "15     22    1 2020-11-24 21:12:38   1.174444    19.583728  "
      ]
     },
     "execution_count": 397,
     "metadata": {},
     "output_type": "execute_result"
    }
   ],
   "source": [
    "df.head(15)"
   ]
  },
  {
   "cell_type": "code",
   "execution_count": null,
   "metadata": {},
   "outputs": [],
   "source": []
  },
  {
   "cell_type": "code",
   "execution_count": null,
   "metadata": {},
   "outputs": [],
   "source": []
  },
  {
   "cell_type": "code",
   "execution_count": null,
   "metadata": {},
   "outputs": [],
   "source": []
  },
  {
   "cell_type": "code",
   "execution_count": null,
   "metadata": {},
   "outputs": [],
   "source": []
  },
  {
   "cell_type": "code",
   "execution_count": null,
   "metadata": {},
   "outputs": [],
   "source": []
  },
  {
   "cell_type": "code",
   "execution_count": null,
   "metadata": {},
   "outputs": [],
   "source": []
  },
  {
   "cell_type": "code",
   "execution_count": null,
   "metadata": {},
   "outputs": [],
   "source": []
  },
  {
   "cell_type": "code",
   "execution_count": null,
   "metadata": {},
   "outputs": [],
   "source": []
  },
  {
   "cell_type": "code",
   "execution_count": null,
   "metadata": {},
   "outputs": [],
   "source": []
  },
  {
   "cell_type": "code",
   "execution_count": null,
   "metadata": {},
   "outputs": [],
   "source": []
  },
  {
   "cell_type": "code",
   "execution_count": 56,
   "metadata": {},
   "outputs": [
    {
     "data": {
      "text/plain": [
       "'3.9.0'"
      ]
     },
     "execution_count": 56,
     "metadata": {},
     "output_type": "execute_result"
    }
   ],
   "source": [
    "tweepy.__version__"
   ]
  },
  {
   "cell_type": "code",
   "execution_count": null,
   "metadata": {},
   "outputs": [],
   "source": []
  },
  {
   "cell_type": "code",
   "execution_count": null,
   "metadata": {},
   "outputs": [],
   "source": []
  },
  {
   "cell_type": "code",
   "execution_count": null,
   "metadata": {},
   "outputs": [],
   "source": []
  },
  {
   "cell_type": "code",
   "execution_count": null,
   "metadata": {},
   "outputs": [],
   "source": []
  },
  {
   "cell_type": "code",
   "execution_count": null,
   "metadata": {},
   "outputs": [],
   "source": []
  },
  {
   "cell_type": "code",
   "execution_count": null,
   "metadata": {},
   "outputs": [],
   "source": []
  },
  {
   "cell_type": "code",
   "execution_count": null,
   "metadata": {},
   "outputs": [],
   "source": []
  },
  {
   "cell_type": "code",
   "execution_count": null,
   "metadata": {},
   "outputs": [],
   "source": []
  },
  {
   "cell_type": "code",
   "execution_count": null,
   "metadata": {},
   "outputs": [],
   "source": []
  },
  {
   "cell_type": "code",
   "execution_count": null,
   "metadata": {},
   "outputs": [],
   "source": []
  },
  {
   "cell_type": "code",
   "execution_count": null,
   "metadata": {},
   "outputs": [],
   "source": []
  },
  {
   "cell_type": "code",
   "execution_count": null,
   "metadata": {},
   "outputs": [],
   "source": []
  },
  {
   "cell_type": "code",
   "execution_count": null,
   "metadata": {},
   "outputs": [],
   "source": []
  },
  {
   "cell_type": "code",
   "execution_count": null,
   "metadata": {},
   "outputs": [],
   "source": []
  },
  {
   "cell_type": "code",
   "execution_count": null,
   "metadata": {},
   "outputs": [],
   "source": []
  },
  {
   "cell_type": "code",
   "execution_count": null,
   "metadata": {},
   "outputs": [],
   "source": []
  },
  {
   "cell_type": "code",
   "execution_count": null,
   "metadata": {},
   "outputs": [],
   "source": []
  },
  {
   "cell_type": "code",
   "execution_count": null,
   "metadata": {},
   "outputs": [],
   "source": []
  },
  {
   "cell_type": "code",
   "execution_count": null,
   "metadata": {},
   "outputs": [],
   "source": []
  },
  {
   "cell_type": "code",
   "execution_count": null,
   "metadata": {},
   "outputs": [],
   "source": []
  },
  {
   "cell_type": "code",
   "execution_count": null,
   "metadata": {},
   "outputs": [],
   "source": []
  },
  {
   "cell_type": "code",
   "execution_count": null,
   "metadata": {},
   "outputs": [],
   "source": []
  },
  {
   "cell_type": "code",
   "execution_count": null,
   "metadata": {},
   "outputs": [],
   "source": []
  },
  {
   "cell_type": "code",
   "execution_count": null,
   "metadata": {},
   "outputs": [],
   "source": []
  },
  {
   "cell_type": "code",
   "execution_count": null,
   "metadata": {},
   "outputs": [],
   "source": []
  },
  {
   "cell_type": "code",
   "execution_count": 5,
   "metadata": {},
   "outputs": [
    {
     "name": "stderr",
     "output_type": "stream",
     "text": [
      "INFO:root:API created\n"
     ]
    }
   ],
   "source": [
    "api=create_api()"
   ]
  },
  {
   "cell_type": "code",
   "execution_count": 45,
   "metadata": {},
   "outputs": [],
   "source": [
    "tuis=api.get_status(1323715036708278275)"
   ]
  },
  {
   "cell_type": "code",
   "execution_count": 40,
   "metadata": {},
   "outputs": [
    {
     "data": {
      "text/plain": [
       "'https://mobile.twitter.com'"
      ]
     },
     "execution_count": 40,
     "metadata": {},
     "output_type": "execute_result"
    }
   ],
   "source": [
    "tuis."
   ]
  },
  {
   "cell_type": "code",
   "execution_count": 36,
   "metadata": {},
   "outputs": [
    {
     "data": {
      "text/plain": [
       "1323715036708278275"
      ]
     },
     "execution_count": 36,
     "metadata": {},
     "output_type": "execute_result"
    }
   ],
   "source": [
    "tuis.id"
   ]
  },
  {
   "cell_type": "code",
   "execution_count": 37,
   "metadata": {},
   "outputs": [
    {
     "data": {
      "text/plain": [
       "'@cronica @baitbot2'"
      ]
     },
     "execution_count": 37,
     "metadata": {},
     "output_type": "execute_result"
    }
   ],
   "source": [
    "tuis.text"
   ]
  },
  {
   "cell_type": "code",
   "execution_count": 9,
   "metadata": {},
   "outputs": [
    {
     "data": {
      "text/plain": [
       "1323696201347289093"
      ]
     },
     "execution_count": 9,
     "metadata": {},
     "output_type": "execute_result"
    }
   ],
   "source": [
    "tuis.in_reply_to_status_id"
   ]
  },
  {
   "cell_type": "code",
   "execution_count": 24,
   "metadata": {},
   "outputs": [],
   "source": [
    "tuis0=api.get_status(1323696201347289093,tweet_mode=\"extended\")"
   ]
  },
  {
   "cell_type": "code",
   "execution_count": 59,
   "metadata": {},
   "outputs": [
    {
     "data": {
      "text/plain": [
       "'✊[UNIDAS]✊ Rocío Oliva contó la charla que tuvo con Claudia Villafañe por la salud de Diego Maradona &gt;&gt;&gt;  La ex novia del \"Diez\" reveló la honesta conversación que mantuvo con la mamá de Dalma y Gianinna y disparó contra Verónica Ojeda. ¡Mirá! https://t.co/kLEWVEEwiK'"
      ]
     },
     "execution_count": 59,
     "metadata": {},
     "output_type": "execute_result"
    }
   ],
   "source": [
    "tuis0.full_text"
   ]
  },
  {
   "cell_type": "code",
   "execution_count": 65,
   "metadata": {},
   "outputs": [
    {
     "data": {
      "text/plain": [
       "'cronica'"
      ]
     },
     "execution_count": 65,
     "metadata": {},
     "output_type": "execute_result"
    }
   ],
   "source": [
    "tuis0.author.screen_name"
   ]
  },
  {
   "cell_type": "code",
   "execution_count": 29,
   "metadata": {},
   "outputs": [
    {
     "data": {
      "text/plain": [
       "[{'url': 'https://t.co/kLEWVEEwiK',\n",
       "  'expanded_url': 'https://www.diarioshow.com/farandula/Rocio-Oliva-conto-la-charla-que-tuvo-con-Claudia-Villafane-por-la-salud-de-Diego-Maradona-20201103-0008.html',\n",
       "  'display_url': 'diarioshow.com/farandula/Roci…',\n",
       "  'indices': [253, 276]}]"
      ]
     },
     "execution_count": 29,
     "metadata": {},
     "output_type": "execute_result"
    }
   ],
   "source": [
    "tuis0.entities['urls']"
   ]
  },
  {
   "cell_type": "code",
   "execution_count": 30,
   "metadata": {},
   "outputs": [
    {
     "data": {
      "text/plain": [
       "'https://t.co/kLEWVEEwiK'"
      ]
     },
     "execution_count": 30,
     "metadata": {},
     "output_type": "execute_result"
    }
   ],
   "source": [
    "tuis0.entities['urls'][0]['url']"
   ]
  },
  {
   "cell_type": "code",
   "execution_count": 401,
   "metadata": {},
   "outputs": [],
   "source": [
    "import requests as r\n",
    "from bs4 import BeautifulSoup as bs"
   ]
  },
  {
   "cell_type": "code",
   "execution_count": 402,
   "metadata": {},
   "outputs": [],
   "source": [
    "rq=r.get('https://exitoina.perfil.com/noticias/destacada/polemica-figura-del-cantando-podria-sumarse-a-masterchef.phtml')"
   ]
  },
  {
   "cell_type": "code",
   "execution_count": 403,
   "metadata": {},
   "outputs": [],
   "source": [
    "class lnn():\n",
    "    def __init__(self):\n",
    "        self.url='https://www.infobae.com/'\n",
    "   \n",
    "    def get(self,url):        \n",
    "        nota=r.get(url)\n",
    "        sopa=bs(nota.content,features=\"lxml\")sopa=bs(rq.content)"
   ]
  },
  {
   "cell_type": "code",
   "execution_count": 478,
   "metadata": {},
   "outputs": [],
   "source": [
    "class ext():\n",
    "    def __init__(self):\n",
    "        self.url='https://exitoina.perfil.com/'\n",
    "   \n",
    "    def get(self,url):        \n",
    "        nota=r.get(url)\n",
    "        sopa=bs(nota.content,features=\"lxml\")\n",
    "        body=sopa.find('div',{'id':'news-body'})\n",
    "        self.cuerpo=' '.join([unicodedata.normalize(\"NFKD\",x.get_text()).strip() for x in body.find_all('p')])\n",
    "        self.titulo=sopa.find('h1').text\n",
    "        self.bajada=sopa.find('p','headline').text.strip()\n",
    "        ps=body.find_all('p')\n",
    "        bolds=[]\n",
    "        for p in ps:\n",
    "            bolds.extend([unicodedata.normalize(\"NFKD\",x.get_text()).strip() for x in p.find_all('strong',recursive=False)])\n",
    "        self.bolds=bolds\n",
    "        self.quotes=[self.cuerpo.split('\"')[1::2]]\n",
    "        self.quot=' / '.join(self.cuerpo.split('\"')[1::2])\n",
    "        self.bold=' / '.join(bolds)\n"
   ]
  },
  {
   "cell_type": "code",
   "execution_count": 479,
   "metadata": {},
   "outputs": [],
   "source": [
    "nota=ext()\n",
    "nota.get('https://exitoina.perfil.com/noticias/videos/yanina-latorre-hablo-de-su-ausencia-en-lam.phtml')"
   ]
  },
  {
   "cell_type": "code",
   "execution_count": 480,
   "metadata": {},
   "outputs": [
    {
     "data": {
      "text/plain": [
       "'Yanina Latorre habló de su ausencia en LAM'"
      ]
     },
     "execution_count": 480,
     "metadata": {},
     "output_type": "execute_result"
    }
   ],
   "source": [
    "nota.titulo"
   ]
  },
  {
   "cell_type": "code",
   "execution_count": 481,
   "metadata": {},
   "outputs": [
    {
     "data": {
      "text/plain": [
       "'faltazo / Buenos días, no los abandoné. Hablemos de este día: sol, aire / Hoy les quiero informar que no trabajo porque me tocó rotation / Vieron que desde hace una semana, desde el lunes pasado, empezamos a rotar todas las angelitas porque tenemos angelitas invitadas / Esta semana viene la señora Ana Rosenfeld, una señora con todas las letras / El terror de los maridos / Asi que hoy me tocó rotation. ¿Se puede ser más feliz? Rotation en un feriado, me siento parte del mundo. Porque como una trabaja todos los feriados, hoy no trabajo y es feriado. Estoy como la gente normal en la casa / Vos y tu vieja son más malas que la peste”, fue el primer disparo de Graciela, recordando cuando Dora Caamaño “la metió en un freezer”. Luego, Alfano arremetió contra Yanina en el ciclo radial Por si las Moscas y la liquidó. Esta vez, directamente le dejó un contundente mensaje a De Brito.  / . Y destacó al conductor de Los Ángeles de la Mañana y del Cantando 2020 junto con Laurita Fernández al decir que  / , dijo.  / , señaló refiriéndose a la participación de la esposa de Diego Latorre en LAM. Días atrás, Ángel De Brito contó que la Dra. Rosenfeld se iba a desempeñar como angelita en reemplazo de Graciela Alfano, quien estuvo como panelista invitada durante la semana que terminó.  / , dijo el conductor.   / . L.M'"
      ]
     },
     "execution_count": 481,
     "metadata": {},
     "output_type": "execute_result"
    }
   ],
   "source": [
    "nota.quot"
   ]
  },
  {
   "cell_type": "code",
   "execution_count": 482,
   "metadata": {},
   "outputs": [
    {
     "data": {
      "text/plain": [
       "'Yanina Latorre / Ángel de Brito / me tocó rotation / Esta semana viene la señora Ana Rosenfeld / feriado / Estoy como la gente normal en la casa / Vos y tu vieja son más malas que la peste / Dora Caamaño / demasiado buen amigo / Yanina le está generando (a De Brito) un pelotazo en contra esta mujer / Ángel De Brito / panelista invitada / LAM / Ana Rosenfeld / angelita / Ana'"
      ]
     },
     "execution_count": 482,
     "metadata": {},
     "output_type": "execute_result"
    }
   ],
   "source": [
    "nota.bold"
   ]
  },
  {
   "cell_type": "code",
   "execution_count": 458,
   "metadata": {},
   "outputs": [
    {
     "data": {
      "text/plain": [
       "'Rodrigo Lussich / El Trece / Dijeron que ella tenía otro trabajo. / modelo / Nacha Guevara / es consciente y es voluntario\". / cómo se vieron burlados todos los que tienen una enfermedad que se llama Parkinson / Lola Latorre dio positivo de Coronavirus / fiesta clandestina / Mercedes / “imputada” / LaFlia / le comunicó a de Brito que se bajaba del certamen de canto'"
      ]
     },
     "execution_count": 458,
     "metadata": {},
     "output_type": "execute_result"
    }
   ],
   "source": [
    "bold"
   ]
  },
  {
   "cell_type": "code",
   "execution_count": 459,
   "metadata": {},
   "outputs": [
    {
     "data": {
      "text/plain": [
       "\"Los Escandalones / Lolita Latorre, quien viene de salir del Cantando y está en la categoría 'hijos de famosos'. Porque viste que van llenando como ítems / Dijeron que ella tenía otro trabajo. Entonces esto lo debe estar cerrando / No sé, está la idea. Veremos si Lolita puede llegar a estar en la cocina de MasterChef / es consciente y es voluntario / Necesitan un baño de realidad / Ustedes pensaron en algún momento en cómo se vieron burlados todos los que tienen una enfermedad que se llama Parkinson / Se repara con acciones, no con palabras / caso perdido\""
      ]
     },
     "execution_count": 459,
     "metadata": {},
     "output_type": "execute_result"
    }
   ],
   "source": [
    "quotes"
   ]
  },
  {
   "cell_type": "code",
   "execution_count": 460,
   "metadata": {},
   "outputs": [
    {
     "data": {
      "text/plain": [
       "'La producción de MasterChef Celebrity Argentina está con los motores encendidos planeando el próximo año. En las últimas horas trascendió un nombre inesperado dentro de la posible lista de participantes: Lola Latorre. Rodrigo Lussich contó en su sección \"Los Escandalones\" en Intrusos, 20 años (América), que uno de los nombres que se barajan en la lista de los posibles participantes de MasterChef 2021 es el de la hija de Yanina y Diego Latorre, Lola, quien tuvo una abrupta y escandalosa salida del Cantando 2020, ciclo producido por Marcelo Tinelli para El Trece. \"Lolita Latorre, quien viene de salir del Cantando y está en la categoría \\'hijos de famosos\\'. Porque viste que van llenando como ítems\", indicó el panelista del programa y conductor de El Show de los Escandalones. \"Dijeron que ella tenía otro trabajo. Entonces esto lo debe estar cerrando\", comentó Paula Varela. \"No sé, está la idea. Veremos si Lolita puede llegar a estar en la cocina de MasterChef\", cerró Lussich.  El paso de Lola Latorre por el Cantando pasó de ser algo tranquilo y hasta criticable por sus interpretaciones, a estar constantemente en el ojo de la tormenta. A mediados de agosto, la modelo, de 19 años de edad, decidió alejarse de Twitter por la lluvia de críticas que recibía. En septiembre, Lola fue protagonista de un escandaloso momento cuando se burló de los temblores de Nacha Guevara, sin saber qué sucedía. Su desafortunado chiste causó gran repercursión en el medio y las redes, y llevó a la artista y jurado del Cantando a hablar de sus temblores y asegurar que \"es consciente y es voluntario\". Cuando Nacha tuvo a Lola y Lucas Spadafora frente a ella, ya que tanto la modelo como su compañero se habían vuelto a burlar en un video, les propuso realizar una acción para reparar el daño. \"Necesitan un baño de realidad\", les dijo. \"Ustedes pensaron en algún momento en cómo se vieron burlados todos los que tienen una enfermedad que se llama Parkinson\", agregó Guevara, quien tras las disculpas e intentos de los jóvenes de justificar lo que habían hecho les tiró: \"Se repara con acciones, no con palabras\". De ahí en más, todo fue en declive. Y la relación entre Nacha y Lola no se recuperó. En octubre, Lola Latorre dio positivo de Coronavirus luego de que su coach contrajera el virus. La misma suerte corrieron Ángela Leiva, Brian Lanzelotta y más tarde, Spadafora. Un par de semanas después, la hija de Yanina fue dada de alta, pero el que cayó fue Diego Latorre. Eso significó más tiempo de aislamiento para la joven.  En el inicio noviembre, la modelo se vio envuelta en un escándalo policial luego de concurrir a una fiesta clandestina en Gowland, en el partido de Mercedes, en la provincia de Buenos Aires. Yanina Latorre negó que su hija haya asistido, y aclaró que sólo fue a buscar a una amiga que sí estuvo en el lugar. Sin embargo, al día siguiente dieron a conocer el documento judicial donde Lola figura como “imputada” por “infracción de la Ley 25.541 Artículos 205 y 239”, por el incumplimiento del Decreto de Aislamiento Social, Preventivo y Obligatorio. La productora del Cantando, LaFlia, decidió que Latorre fuera aislada preventivamente durante 15 días, además de ser hisopada antes de regresar al certamen conducido por Ángel de Brito y Laura Fernández. Pero a su vuelta, tuvo un nuevo choque con Nacha, quien evitó saludarla y la llamó \"caso perdido\". Esto hizo que Yanina enfureciera y decidiera que Lola debía salir del programa, cuestión que avaló la modelo y luego le comunicó a de Brito que se bajaba del certamen de canto. Ahora, al parecer, tendría la posibilidad de pasarse al reality culinario que noche a noche supera en rating al programa del cual ella se bajó abruptamente. ¿La veremos en MasterChef? L.M'"
      ]
     },
     "execution_count": 460,
     "metadata": {},
     "output_type": "execute_result"
    }
   ],
   "source": [
    "cuerpo"
   ]
  },
  {
   "cell_type": "code",
   "execution_count": null,
   "metadata": {},
   "outputs": [],
   "source": []
  },
  {
   "cell_type": "code",
   "execution_count": null,
   "metadata": {},
   "outputs": [],
   "source": []
  },
  {
   "cell_type": "code",
   "execution_count": null,
   "metadata": {},
   "outputs": [],
   "source": []
  },
  {
   "cell_type": "code",
   "execution_count": 38,
   "metadata": {},
   "outputs": [],
   "source": [
    "consumer_key = \"EtKmd1NbqzXAZAIdWpb7xbRKg\"\n",
    "consumer_secret = \"R9tSQTZOv9wuDqis8UIhmLJ2jFUtATDYrTtUlTsb9UdGQk7GuJ\"\n",
    "access_token =\"1323692400158625792-Ve3TDs7u9kIoBiBYwLzE7oU7hjVDXj\"\n",
    "access_token_secret =\"kPe9lFls2BDokKMAGh2NdNGssXYWinN9iUlxVwQDN5iVC\""
   ]
  }
 ],
 "metadata": {
  "kernelspec": {
   "display_name": "Python 3",
   "language": "python",
   "name": "python3"
  },
  "language_info": {
   "codemirror_mode": {
    "name": "ipython",
    "version": 3
   },
   "file_extension": ".py",
   "mimetype": "text/x-python",
   "name": "python",
   "nbconvert_exporter": "python",
   "pygments_lexer": "ipython3",
   "version": "3.7.4"
  }
 },
 "nbformat": 4,
 "nbformat_minor": 4
}
